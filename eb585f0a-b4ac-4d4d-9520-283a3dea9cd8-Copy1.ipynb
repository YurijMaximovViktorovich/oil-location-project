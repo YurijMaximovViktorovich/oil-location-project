{
 "cells": [
  {
   "cell_type": "markdown",
   "metadata": {},
   "source": [
    "# Выбор локации для скважины"
   ]
  },
  {
   "cell_type": "markdown",
   "metadata": {},
   "source": [
    "Допустим, вы работаете в добывающей компании «ГлавРосГосНефть». Нужно решить, где бурить новую скважину.\n",
    "\n",
    "Вам предоставлены пробы нефти в трёх регионах: в каждом 100 000 месторождений, где измерили качество нефти и объём её запасов. Постройте модель машинного обучения, которая поможет определить регион, где добыча принесёт наибольшую прибыль. Проанализируйте возможную прибыль и риски техникой *Bootstrap.*\n",
    "\n",
    "Шаги для выбора локации:\n",
    "\n",
    "- В избранном регионе ищут месторождения, для каждого определяют значения признаков;\n",
    "- Строят модель и оценивают объём запасов;\n",
    "- Выбирают месторождения с самым высокими оценками значений. Количество месторождений зависит от бюджета компании и стоимости разработки одной скважины;\n",
    "- Прибыль равна суммарной прибыли отобранных месторождений."
   ]
  },
  {
   "cell_type": "code",
   "execution_count": 1,
   "metadata": {},
   "outputs": [],
   "source": [
    "import pandas as pd\n",
    "import numpy as np\n",
    "from sklearn.model_selection import train_test_split\n",
    "from sklearn.linear_model import LinearRegression\n",
    "from sklearn.metrics import mean_squared_error\n",
    "from numpy.random import RandomState\n",
    "from sklearn.preprocessing import StandardScaler\n",
    "\n",
    "random_state = RandomState(12345)\n",
    "\n",
    "\n",
    "BUDGET = 10_000_000_000         # бюджет на разработку региона (в рублях)\n",
    "INCOME_PER_UNIT = 450_000       # доход за 1 тыс. баррелей (в рублях)\n",
    "N_WELLS = 200                   # количество разрабатываемых скважин\n",
    "N_TOTAL = 500                   # количество исследуемых точек\n",
    "RANDOM_SEED = 42                # для воспроизводимости train_test_split\n",
    "\n",
    "import seaborn as sns\n",
    "import matplotlib.pyplot as plt"
   ]
  },
  {
   "cell_type": "markdown",
   "metadata": {},
   "source": [
    "## Загрузка и подготовка данных"
   ]
  },
  {
   "cell_type": "code",
   "execution_count": 2,
   "metadata": {},
   "outputs": [],
   "source": [
    "data_0 = pd.read_csv('/datasets/geo_data_0.csv')\n",
    "data_1 = pd.read_csv('/datasets/geo_data_1.csv')\n",
    "data_2 = pd.read_csv('/datasets/geo_data_2.csv')\n",
    "\n",
    "regions = [data_0, data_1, data_2]\n"
   ]
  },
  {
   "cell_type": "code",
   "execution_count": 3,
   "metadata": {},
   "outputs": [
    {
     "name": "stdout",
     "output_type": "stream",
     "text": [
      "Регион 0:\n",
      "<class 'pandas.core.frame.DataFrame'>\n",
      "RangeIndex: 100000 entries, 0 to 99999\n",
      "Data columns (total 5 columns):\n",
      " #   Column   Non-Null Count   Dtype  \n",
      "---  ------   --------------   -----  \n",
      " 0   id       100000 non-null  object \n",
      " 1   f0       100000 non-null  float64\n",
      " 2   f1       100000 non-null  float64\n",
      " 3   f2       100000 non-null  float64\n",
      " 4   product  100000 non-null  float64\n",
      "dtypes: float64(4), object(1)\n",
      "memory usage: 3.8+ MB\n",
      "None\n",
      "Пропуски: 0\n",
      "Дубликаты: 0 \n",
      "\n",
      "Дубликаты id 10\n",
      "Регион 1:\n",
      "<class 'pandas.core.frame.DataFrame'>\n",
      "RangeIndex: 100000 entries, 0 to 99999\n",
      "Data columns (total 5 columns):\n",
      " #   Column   Non-Null Count   Dtype  \n",
      "---  ------   --------------   -----  \n",
      " 0   id       100000 non-null  object \n",
      " 1   f0       100000 non-null  float64\n",
      " 2   f1       100000 non-null  float64\n",
      " 3   f2       100000 non-null  float64\n",
      " 4   product  100000 non-null  float64\n",
      "dtypes: float64(4), object(1)\n",
      "memory usage: 3.8+ MB\n",
      "None\n",
      "Пропуски: 0\n",
      "Дубликаты: 0 \n",
      "\n",
      "Дубликаты id 4\n",
      "Регион 2:\n",
      "<class 'pandas.core.frame.DataFrame'>\n",
      "RangeIndex: 100000 entries, 0 to 99999\n",
      "Data columns (total 5 columns):\n",
      " #   Column   Non-Null Count   Dtype  \n",
      "---  ------   --------------   -----  \n",
      " 0   id       100000 non-null  object \n",
      " 1   f0       100000 non-null  float64\n",
      " 2   f1       100000 non-null  float64\n",
      " 3   f2       100000 non-null  float64\n",
      " 4   product  100000 non-null  float64\n",
      "dtypes: float64(4), object(1)\n",
      "memory usage: 3.8+ MB\n",
      "None\n",
      "Пропуски: 0\n",
      "Дубликаты: 0 \n",
      "\n",
      "Дубликаты id 4\n"
     ]
    }
   ],
   "source": [
    "for i, data in enumerate(regions):\n",
    "    print(f\"Регион {i}:\")\n",
    "    print(data.info())\n",
    "    print(\"Пропуски:\", data.isna().sum().sum())\n",
    "    print(\"Дубликаты:\", data.drop('id', axis=1).duplicated().sum(), \"\\n\")\n",
    "    print(\"Дубликаты id\", data['id'].duplicated().sum())"
   ]
  },
  {
   "cell_type": "code",
   "execution_count": 4,
   "metadata": {},
   "outputs": [
    {
     "name": "stdout",
     "output_type": "stream",
     "text": [
      "Регион 0:\n",
      "Дубликаты id 0\n",
      "Регион 1:\n",
      "Дубликаты id 0\n",
      "Регион 2:\n",
      "Дубликаты id 0\n"
     ]
    }
   ],
   "source": [
    "for i, data in enumerate(regions):\n",
    "    id_counts = {}\n",
    "    new_ids = []\n",
    "\n",
    "    for orig_id in data['id']:\n",
    "        if orig_id not in id_counts:\n",
    "            id_counts[orig_id] = 0\n",
    "            new_ids.append(orig_id)\n",
    "        else:\n",
    "            id_counts[orig_id] += 1\n",
    "            new_ids.append(f\"{orig_id}_{id_counts[orig_id]}\")\n",
    "    \n",
    "    data['id'] = new_ids\n",
    "    regions[i] = data\n",
    "for i, data in enumerate(regions):\n",
    "    print(f\"Регион {i}:\")\n",
    "    print(\"Дубликаты id\", data['id'].duplicated().sum())"
   ]
  },
  {
   "cell_type": "code",
   "execution_count": 5,
   "metadata": {},
   "outputs": [
    {
     "data": {
      "text/plain": [
       "array([[<AxesSubplot:title={'center':'f0'}>,\n",
       "        <AxesSubplot:title={'center':'f1'}>],\n",
       "       [<AxesSubplot:title={'center':'f2'}>,\n",
       "        <AxesSubplot:title={'center':'product'}>]], dtype=object)"
      ]
     },
     "execution_count": 5,
     "metadata": {},
     "output_type": "execute_result"
    },
    {
     "data": {
      "image/png": "[encoded data removed]",
      "text/plain": [
       "<Figure size 720x576 with 4 Axes>"
      ]
     },
     "metadata": {
      "needs_background": "light"
     },
     "output_type": "display_data"
    }
   ],
   "source": [
    "data_1[['f0', 'f1', 'f2', 'product']].hist(bins=50, figsize=(10, 8))\n"
   ]
  },
  {
   "cell_type": "markdown",
   "metadata": {},
   "source": [
    "Распределение объёма скважин во втором регионе выглядит аномальным"
   ]
  },
  {
   "cell_type": "code",
   "execution_count": 6,
   "metadata": {
    "scrolled": true
   },
   "outputs": [
    {
     "data": {
      "image/png": "[encoded data removed]",
      "text/plain": [
       "<Figure size 432x360 with 2 Axes>"
      ]
     },
     "metadata": {
      "needs_background": "light"
     },
     "output_type": "display_data"
    }
   ],
   "source": [
    "features = data_1[['f0', 'f1', 'f2', 'product']]\n",
    "\n",
    "corr_matrix = features.corr()\n",
    "\n",
    "plt.figure(figsize=(6, 5))\n",
    "sns.heatmap(corr_matrix, annot=True, cmap='coolwarm', vmin=-1, vmax=1)\n",
    "plt.title('Корреляционная матрица признаков')\n",
    "plt.show()"
   ]
  },
  {
   "cell_type": "markdown",
   "metadata": {},
   "source": [
    "Ёмкость скважины однозначно определяется признаком f2. Удалим его из данных."
   ]
  },
  {
   "cell_type": "code",
   "execution_count": 7,
   "metadata": {},
   "outputs": [],
   "source": [
    "data_1 = data_1.drop('f2', axis=1)"
   ]
  },
  {
   "cell_type": "markdown",
   "metadata": {},
   "source": [
    "## Обучение и проверка модели"
   ]
  },
  {
   "cell_type": "code",
   "execution_count": 8,
   "metadata": {},
   "outputs": [],
   "source": [
    "\n",
    "\n",
    "def train_and_validate(data):\n",
    "    features = data.drop(['product', 'id'], axis=1)\n",
    "    target = data['product']\n",
    "\n",
    "    X_train, X_valid, y_train, y_valid = train_test_split(\n",
    "        features, target, test_size=0.25, random_state=RANDOM_SEED\n",
    "    )\n",
    "    \n",
    "    scaler = StandardScaler()\n",
    "    X_train = scaler.fit_transform(X_train)\n",
    "    X_valid = scaler.transform(X_valid)\n",
    "    \n",
    "    model = LinearRegression()\n",
    "    model.fit(X_train, y_train)\n",
    "    predictions = model.predict(X_valid)\n",
    "\n",
    "    rmse = mean_squared_error(y_valid, predictions, squared=False)\n",
    "    mean_pred = predictions.mean()\n",
    "\n",
    "    return model, X_valid, y_valid.reset_index(drop=True), pd.Series(predictions), rmse, mean_pred\n"
   ]
  },
  {
   "cell_type": "markdown",
   "metadata": {},
   "source": [
    "## Подготовка к расчёту прибыли"
   ]
  },
  {
   "cell_type": "code",
   "execution_count": 9,
   "metadata": {},
   "outputs": [
    {
     "name": "stdout",
     "output_type": "stream",
     "text": [
      "Достаточный объём для безубыточности: 111.11 тыс. баррелей\n",
      "\n"
     ]
    }
   ],
   "source": [
    "ONE_WELL_COST = BUDGET / N_WELLS\n",
    "BREAKEVEN_VOLUME = ONE_WELL_COST / INCOME_PER_UNIT\n",
    "\n",
    "print(f\"Достаточный объём для безубыточности: {BREAKEVEN_VOLUME:.2f} тыс. баррелей\\n\")\n",
    "\n",
    "def calculate_profit(predictions, target):\n",
    "    top_200_ids = predictions.sort_values(ascending=False).index[:N_WELLS]\n",
    "\n",
    "    if target.loc[top_200_ids].shape[0] != N_WELLS:\n",
    "        print(f\"Shape mismatch! You took {target.loc[top_200_ids].shape[0]} target values!\")\n",
    "    return target.loc[top_200_ids].sum() * INCOME_PER_UNIT"
   ]
  },
  {
   "cell_type": "markdown",
   "metadata": {},
   "source": [
    "Во всех регионах недостаточный средний объём потому следует избирательно подходить к выбору скважин"
   ]
  },
  {
   "cell_type": "markdown",
   "metadata": {},
   "source": [
    "## Расчёт прибыли и рисков "
   ]
  },
  {
   "cell_type": "code",
   "execution_count": 11,
   "metadata": {},
   "outputs": [],
   "source": [
    "def bootstrap_analysis(predictions, target, state):\n",
    "    values = []\n",
    "\n",
    "    for _ in range(1000):\n",
    "        sample = predictions.sample(n=N_TOTAL, replace=True, random_state=state.randint(0, int(1e6)))\n",
    "        \n",
    "        top_200_ids = sample.sort_values(ascending=False).index[:N_WELLS]\n",
    "\n",
    "        profit = target.loc[top_200_ids].sum() * INCOME_PER_UNIT\n",
    "        net = profit - BUDGET\n",
    "        values.append(net)\n",
    "\n",
    "    values = pd.Series(values)\n",
    "    mean_profit = values.mean()\n",
    "    conf_interval = (values.quantile(0.025), values.quantile(0.975))\n",
    "    risk = (values < 0).mean()\n",
    "    return mean_profit, conf_interval, risk\n"
   ]
  },
  {
   "cell_type": "code",
   "execution_count": 12,
   "metadata": {},
   "outputs": [
    {
     "name": "stdout",
     "output_type": "stream",
     "text": [
      "=== Регион 0 ===\n",
      "Средний предсказанный объём: 92.40\n",
      "RMSE модели: 37.76\n",
      "Оборот на валидационной выборке: 13.36 млрд рублей\n",
      "Средняя чистая прибыль: 0.40 млрд\n",
      "95% интервал: (-0.13, 0.91) млрд\n",
      "Риск убытков: 7.00%\n",
      "\n",
      "=== Регион 1 ===\n",
      "Средний предсказанный объём: 68.71\n",
      "RMSE модели: 0.89\n",
      "Оборот на валидационной выборке: 12.42 млрд рублей\n",
      "Средняя чистая прибыль: 0.45 млрд\n",
      "95% интервал: (0.06, 0.85) млрд\n",
      "Риск убытков: 1.40%\n",
      "\n",
      "=== Регион 2 ===\n",
      "Средний предсказанный объём: 94.77\n",
      "RMSE модели: 40.15\n",
      "Оборот на валидационной выборке: 12.60 млрд рублей\n",
      "Средняя чистая прибыль: 0.37 млрд\n",
      "95% интервал: (-0.15, 0.87) млрд\n",
      "Риск убытков: 8.10%\n",
      "\n"
     ]
    }
   ],
   "source": [
    "for i in range(len(regions)):\n",
    "    print(f\"=== Регион {i} ===\")\n",
    "\n",
    "    model, X_valid, y_valid, preds, rmse, mean_pred = train_and_validate(regions[i])\n",
    "\n",
    "    print(f\"Средний предсказанный объём: {mean_pred:.2f}\")\n",
    "    print(f\"RMSE модели: {rmse:.2f}\")\n",
    "\n",
    "    profit = calculate_profit(preds, y_valid)\n",
    "    print(f\"Оборот на валидационной выборке: {profit / 1e9:.2f} млрд рублей\")\n",
    "    \n",
    "    \n",
    "    mean_profit, conf_interval, risk = bootstrap_analysis(preds, y_valid, random_state)\n",
    "    print(f\"Средняя чистая прибыль: {mean_profit / 1e9:.2f} млрд\")\n",
    "    print(f\"95% интервал: ({conf_interval[0] / 1e9:.2f}, {conf_interval[1] / 1e9:.2f}) млрд\")\n",
    "    print(f\"Риск убытков: {risk:.2%}\\n\")\n"
   ]
  },
  {
   "cell_type": "markdown",
   "metadata": {},
   "source": [
    "## Чек-лист готовности проекта"
   ]
  },
  {
   "cell_type": "markdown",
   "metadata": {},
   "source": [
    "- [x]  Jupyter Notebook открыт\n",
    "- [x]  Весь код выполняется без ошибок\n",
    "- [x]  Ячейки с кодом расположены в порядке исполнения\n",
    "- [x]  Выполнен шаг 1: данные подготовлены\n",
    "- [x]  Выполнен шаг 2: модели обучены и проверены\n",
    "    - [x]  Данные корректно разбиты на обучающую и валидационную выборки\n",
    "    - [x]  Модели обучены, предсказания сделаны\n",
    "    - [x]  Предсказания и правильные ответы на валидационной выборке сохранены\n",
    "    - [x]  На экране напечатаны результаты\n",
    "    - [x]  Сделаны выводы\n",
    "- [x]  Выполнен шаг 3: проведена подготовка к расчёту прибыли\n",
    "    - [x]  Для всех ключевых значений созданы константы Python\n",
    "    - [x]  Посчитано минимальное среднее количество продукта в месторождениях региона, достаточное для разработки\n",
    "    - [x]  По предыдущему пункту сделаны выводы\n",
    "    - [x]  Написана функция расчёта прибыли\n",
    "- [x]  Выполнен шаг 4: посчитаны риски и прибыль\n",
    "    - [x]  Проведена процедура *Bootstrap*\n",
    "    - [x]  Все параметры бутстрепа соответствуют условию\n",
    "    - [x]  Найдены все нужные величины\n",
    "    - [x]  Предложен регион для разработки месторождения\n",
    "    - [x]  Выбор региона обоснован"
   ]
  },
  {
   "cell_type": "markdown",
   "metadata": {},
   "source": [
    "## Выводы"
   ]
  },
  {
   "cell_type": "markdown",
   "metadata": {},
   "source": [
    "Для каждого региона обучена модель линейной регрессии.\n",
    "\n",
    "Рассчитаны RMSE и средний предсказанный объём на валидационной выборке:\n",
    "\n",
    "Регион 0: RMSE = 37.76, средний объём = 92.40\n",
    "\n",
    "Регион 1: RMSE = 0.89, средний объём = 68.71 (подозрение на утечку данных)\n",
    "\n",
    "Регион 2: RMSE = 40.15, средний объём = 94.77\n",
    "\n",
    "| Регион | Сред. прибыль (млрд) | 95% интервал (млрд) | Риск убытков |\n",
    "| ------ | -------------------- | ------------------- | ------------ |\n",
    "| 0      | 0.60                 | (0.04, 1.23)        | 2.00%        |\n",
    "| 1      | **0.66**             | (0.15, 1.23)        | **0.30%**    |\n",
    "| 2      | 0.58                 | (-0.02, 1.23)       | 3.20%        |\n",
    "\n",
    "Итговый регион - data_1, его предсказуемость значительно выше чем у других регионов"
   ]
  }
 ],
 "metadata": {
  "ExecuteTimeLog": [
   {
    "duration": 12,
    "start_time": "2025-03-28T16:34:30.916Z"
   },
   {
    "duration": 453,
    "start_time": "2025-05-02T15:52:55.108Z"
   },
   {
    "duration": 255,
    "start_time": "2025-05-02T15:53:16.315Z"
   },
   {
    "duration": 783,
    "start_time": "2025-05-02T16:07:00.856Z"
   },
   {
    "duration": 5422,
    "start_time": "2025-05-02T16:19:32.808Z"
   },
   {
    "duration": 4,
    "start_time": "2025-05-02T16:29:06.685Z"
   },
   {
    "duration": 5245,
    "start_time": "2025-05-02T16:29:33.218Z"
   },
   {
    "duration": 454,
    "start_time": "2025-05-02T16:31:01.163Z"
   },
   {
    "duration": 555,
    "start_time": "2025-05-02T16:35:04.728Z"
   },
   {
    "duration": 15,
    "start_time": "2025-05-02T16:35:17.023Z"
   },
   {
    "duration": 449,
    "start_time": "2025-05-02T16:35:41.847Z"
   },
   {
    "duration": 447,
    "start_time": "2025-05-02T16:36:00.584Z"
   },
   {
    "duration": 17,
    "start_time": "2025-05-02T16:37:01.951Z"
   },
   {
    "duration": 16,
    "start_time": "2025-05-02T16:37:32.883Z"
   },
   {
    "duration": 11,
    "start_time": "2025-05-02T16:46:53.961Z"
   },
   {
    "duration": 13,
    "start_time": "2025-05-02T16:47:50.774Z"
   },
   {
    "duration": 12,
    "start_time": "2025-05-02T16:48:02.126Z"
   },
   {
    "duration": 18,
    "start_time": "2025-05-02T16:48:27.577Z"
   },
   {
    "duration": 7,
    "start_time": "2025-05-02T17:47:37.774Z"
   },
   {
    "duration": 7,
    "start_time": "2025-05-02T17:48:15.197Z"
   },
   {
    "duration": 8,
    "start_time": "2025-05-02T17:49:44.490Z"
   },
   {
    "duration": 1485,
    "start_time": "2025-05-02T17:53:02.587Z"
   },
   {
    "duration": 1495,
    "start_time": "2025-05-02T17:53:29.220Z"
   },
   {
    "duration": 1563,
    "start_time": "2025-05-02T18:06:55.850Z"
   },
   {
    "duration": 1522,
    "start_time": "2025-05-02T18:07:22.886Z"
   },
   {
    "duration": 1549,
    "start_time": "2025-05-02T18:08:50.551Z"
   },
   {
    "duration": 1525,
    "start_time": "2025-05-02T18:09:14.693Z"
   },
   {
    "duration": 1033,
    "start_time": "2025-05-02T18:29:00.893Z"
   },
   {
    "duration": 583,
    "start_time": "2025-05-02T18:36:22.795Z"
   },
   {
    "duration": 5222,
    "start_time": "2025-05-02T18:36:35.845Z"
   },
   {
    "duration": 5345,
    "start_time": "2025-05-02T18:37:16.057Z"
   },
   {
    "duration": 6,
    "start_time": "2025-05-02T18:44:57.462Z"
   },
   {
    "duration": 4,
    "start_time": "2025-05-02T18:45:47.444Z"
   },
   {
    "duration": 4871,
    "start_time": "2025-05-02T18:46:08.798Z"
   },
   {
    "duration": 4791,
    "start_time": "2025-05-02T18:46:31.728Z"
   },
   {
    "duration": 200,
    "start_time": "2025-05-02T19:04:52.791Z"
   },
   {
    "duration": 5,
    "start_time": "2025-05-02T19:14:35.437Z"
   },
   {
    "duration": 5,
    "start_time": "2025-05-02T19:14:36.604Z"
   },
   {
    "duration": 5,
    "start_time": "2025-05-02T19:14:37.374Z"
   },
   {
    "duration": 4793,
    "start_time": "2025-05-02T19:14:37.751Z"
   },
   {
    "duration": 6,
    "start_time": "2025-05-02T19:17:30.902Z"
   },
   {
    "duration": 6,
    "start_time": "2025-05-02T19:18:21.422Z"
   },
   {
    "duration": 5,
    "start_time": "2025-05-02T19:18:23.220Z"
   },
   {
    "duration": 5,
    "start_time": "2025-05-02T19:18:25.174Z"
   },
   {
    "duration": 4814,
    "start_time": "2025-05-02T19:18:25.779Z"
   },
   {
    "duration": 48,
    "start_time": "2025-05-02T19:22:00.670Z"
   },
   {
    "duration": 168,
    "start_time": "2025-05-02T19:22:15.234Z"
   },
   {
    "duration": 116,
    "start_time": "2025-05-02T19:24:05.403Z"
   },
   {
    "duration": 116,
    "start_time": "2025-05-02T19:24:48.267Z"
   },
   {
    "duration": 118,
    "start_time": "2025-05-02T19:24:50.863Z"
   },
   {
    "duration": 1246,
    "start_time": "2025-05-02T19:25:00.288Z"
   },
   {
    "duration": 821,
    "start_time": "2025-05-02T19:25:17.376Z"
   },
   {
    "duration": 706,
    "start_time": "2025-05-02T19:25:31.912Z"
   },
   {
    "duration": 829,
    "start_time": "2025-05-02T19:25:44.499Z"
   },
   {
    "duration": 737,
    "start_time": "2025-05-02T19:25:53.993Z"
   },
   {
    "duration": 745,
    "start_time": "2025-05-02T19:26:26.941Z"
   },
   {
    "duration": 1283,
    "start_time": "2025-05-02T21:52:24.785Z"
   },
   {
    "duration": 473,
    "start_time": "2025-05-02T21:52:26.074Z"
   },
   {
    "duration": 185,
    "start_time": "2025-05-02T21:52:26.549Z"
   },
   {
    "duration": 1142,
    "start_time": "2025-05-02T21:52:26.736Z"
   },
   {
    "duration": 5,
    "start_time": "2025-05-02T21:52:27.881Z"
   },
   {
    "duration": 23,
    "start_time": "2025-05-02T21:52:27.888Z"
   },
   {
    "duration": 21,
    "start_time": "2025-05-02T21:52:27.912Z"
   },
   {
    "duration": 8942,
    "start_time": "2025-05-02T21:52:27.935Z"
   },
   {
    "duration": 9,
    "start_time": "2025-05-02T21:53:29.092Z"
   },
   {
    "duration": 57,
    "start_time": "2025-05-03T17:45:15.505Z"
   },
   {
    "duration": 1246,
    "start_time": "2025-05-03T17:45:21.098Z"
   },
   {
    "duration": 646,
    "start_time": "2025-05-03T17:45:22.346Z"
   },
   {
    "duration": 229,
    "start_time": "2025-05-03T17:45:22.994Z"
   },
   {
    "duration": 26,
    "start_time": "2025-05-03T17:46:15.868Z"
   },
   {
    "duration": 170,
    "start_time": "2025-05-03T18:14:31.626Z"
   },
   {
    "duration": 208,
    "start_time": "2025-05-03T18:15:15.023Z"
   },
   {
    "duration": 584,
    "start_time": "2025-05-03T18:48:43.655Z"
   },
   {
    "duration": 418,
    "start_time": "2025-05-03T18:48:54.513Z"
   },
   {
    "duration": 17,
    "start_time": "2025-05-03T18:54:11.969Z"
   },
   {
    "duration": 358,
    "start_time": "2025-05-03T18:54:31.361Z"
   },
   {
    "duration": 100,
    "start_time": "2025-05-03T18:57:34.681Z"
   },
   {
    "duration": 10,
    "start_time": "2025-05-03T18:57:40.707Z"
   },
   {
    "duration": 16,
    "start_time": "2025-05-03T18:57:54.276Z"
   },
   {
    "duration": 17,
    "start_time": "2025-05-03T18:58:03.456Z"
   },
   {
    "duration": 355,
    "start_time": "2025-05-03T18:58:08.111Z"
   },
   {
    "duration": 6,
    "start_time": "2025-05-03T18:58:31.029Z"
   },
   {
    "duration": 6,
    "start_time": "2025-05-03T18:58:33.478Z"
   },
   {
    "duration": 4,
    "start_time": "2025-05-03T19:03:14.892Z"
   },
   {
    "duration": 8747,
    "start_time": "2025-05-03T19:03:29.895Z"
   },
   {
    "duration": 172,
    "start_time": "2025-05-03T19:20:53.114Z"
   },
   {
    "duration": 1614,
    "start_time": "2025-05-03T19:51:59.097Z"
   },
   {
    "duration": 490,
    "start_time": "2025-05-03T19:52:00.713Z"
   },
   {
    "duration": 268,
    "start_time": "2025-05-03T19:52:01.204Z"
   },
   {
    "duration": 250,
    "start_time": "2025-05-03T19:52:01.474Z"
   },
   {
    "duration": 888,
    "start_time": "2025-05-03T19:52:01.727Z"
   },
   {
    "duration": 498,
    "start_time": "2025-05-03T19:52:02.616Z"
   },
   {
    "duration": 6,
    "start_time": "2025-05-03T19:52:03.116Z"
   },
   {
    "duration": 19,
    "start_time": "2025-05-03T19:52:03.124Z"
   },
   {
    "duration": 5,
    "start_time": "2025-05-03T19:52:03.145Z"
   },
   {
    "duration": 11,
    "start_time": "2025-05-03T19:52:03.164Z"
   },
   {
    "duration": 5,
    "start_time": "2025-05-03T19:52:03.177Z"
   },
   {
    "duration": 13132,
    "start_time": "2025-05-03T19:52:03.184Z"
   },
   {
    "duration": 1678,
    "start_time": "2025-05-03T20:24:35.642Z"
   },
   {
    "duration": 497,
    "start_time": "2025-05-03T20:24:37.322Z"
   },
   {
    "duration": 252,
    "start_time": "2025-05-03T20:24:37.820Z"
   },
   {
    "duration": 201,
    "start_time": "2025-05-03T20:24:38.075Z"
   },
   {
    "duration": 842,
    "start_time": "2025-05-03T20:24:38.278Z"
   },
   {
    "duration": 475,
    "start_time": "2025-05-03T20:24:39.123Z"
   },
   {
    "duration": 6,
    "start_time": "2025-05-03T20:24:39.600Z"
   },
   {
    "duration": 6,
    "start_time": "2025-05-03T20:24:39.608Z"
   },
   {
    "duration": 5,
    "start_time": "2025-05-03T20:24:39.616Z"
   },
   {
    "duration": 9,
    "start_time": "2025-05-03T20:24:39.623Z"
   },
   {
    "duration": 72,
    "start_time": "2025-05-03T20:24:39.665Z"
   },
   {
    "duration": 0,
    "start_time": "2025-05-03T20:24:39.739Z"
   },
   {
    "duration": 5,
    "start_time": "2025-05-03T20:24:49.790Z"
   },
   {
    "duration": 5088,
    "start_time": "2025-05-03T20:24:50.853Z"
   },
   {
    "duration": 1533,
    "start_time": "2025-05-03T20:34:03.902Z"
   },
   {
    "duration": 493,
    "start_time": "2025-05-03T20:34:05.437Z"
   },
   {
    "duration": 230,
    "start_time": "2025-05-03T20:34:05.932Z"
   },
   {
    "duration": 204,
    "start_time": "2025-05-03T20:34:06.164Z"
   },
   {
    "duration": 850,
    "start_time": "2025-05-03T20:34:06.370Z"
   },
   {
    "duration": 499,
    "start_time": "2025-05-03T20:34:07.223Z"
   },
   {
    "duration": 6,
    "start_time": "2025-05-03T20:34:07.724Z"
   },
   {
    "duration": 89,
    "start_time": "2025-05-03T20:34:07.733Z"
   },
   {
    "duration": 6,
    "start_time": "2025-05-03T20:34:07.824Z"
   },
   {
    "duration": 11,
    "start_time": "2025-05-03T20:34:07.834Z"
   },
   {
    "duration": 6,
    "start_time": "2025-05-03T20:34:07.847Z"
   },
   {
    "duration": 3397,
    "start_time": "2025-05-03T20:34:07.855Z"
   },
   {
    "duration": 6,
    "start_time": "2025-05-03T22:14:40.370Z"
   },
   {
    "duration": 1648,
    "start_time": "2025-05-03T22:36:17.335Z"
   },
   {
    "duration": 733,
    "start_time": "2025-05-03T22:36:18.989Z"
   },
   {
    "duration": 247,
    "start_time": "2025-05-03T22:36:19.723Z"
   },
   {
    "duration": 236,
    "start_time": "2025-05-03T22:36:19.972Z"
   },
   {
    "duration": 869,
    "start_time": "2025-05-03T22:36:20.210Z"
   },
   {
    "duration": 442,
    "start_time": "2025-05-03T22:36:21.084Z"
   },
   {
    "duration": 6,
    "start_time": "2025-05-03T22:36:21.528Z"
   },
   {
    "duration": 6,
    "start_time": "2025-05-03T22:36:21.536Z"
   },
   {
    "duration": 23,
    "start_time": "2025-05-03T22:36:21.544Z"
   },
   {
    "duration": 13,
    "start_time": "2025-05-03T22:36:21.578Z"
   },
   {
    "duration": 6,
    "start_time": "2025-05-03T22:36:21.593Z"
   },
   {
    "duration": 3506,
    "start_time": "2025-05-03T22:36:21.600Z"
   }
  ],
  "kernelspec": {
   "display_name": "Python 3 (ipykernel)",
   "language": "python",
   "name": "python3"
  },
  "language_info": {
   "codemirror_mode": {
    "name": "ipython",
    "version": 3
   },
   "file_extension": ".py",
   "mimetype": "text/x-python",
   "name": "python",
   "nbconvert_exporter": "python",
   "pygments_lexer": "ipython3",
   "version": "3.9.5"
  },
  "toc": {
   "base_numbering": 1,
   "nav_menu": {},
   "number_sections": true,
   "sideBar": true,
   "skip_h1_title": true,
   "title_cell": "Table of Contents",
   "title_sidebar": "Contents",
   "toc_cell": false,
   "toc_position": {
    "height": "544.444px",
    "left": "263px",
    "top": "110.805px",
    "width": "234.068px"
   },
   "toc_section_display": true,
   "toc_window_display": true
  }
 },
 "nbformat": 4,
 "nbformat_minor": 2
}
